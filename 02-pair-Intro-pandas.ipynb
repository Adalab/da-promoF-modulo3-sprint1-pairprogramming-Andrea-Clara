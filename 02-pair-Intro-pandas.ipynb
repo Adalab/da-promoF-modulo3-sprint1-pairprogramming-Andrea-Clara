{
 "cells": [
  {
   "cell_type": "code",
   "execution_count": 2,
   "metadata": {},
   "outputs": [],
   "source": [
    "import pandas as pd"
   ]
  },
  {
   "cell_type": "markdown",
   "metadata": {},
   "source": [
    "# Pair programming Intro a Pandas\n",
    "1. ¿Qué diferencia hay entre una Serie y un DataFrame?"
   ]
  },
  {
   "cell_type": "markdown",
   "metadata": {},
   "source": [
    "Un DataFrame tiene dos dimensiones (bidimensional),tiene columnas que pueden ser de un tipo diferente cada una, también tiene filas relacionadas con estas columnas. Y una serie tiene solo una dimensión (unidimensional).\n",
    "\n",
    "Por otro lado, una serie está etiquetada con un índice (numérico o etiquetas), puede contener datos de cualquier tipo (int,float,cadenas...), y se puede crear a partir de listas, arrays de NumPy u otras Series. Mientras que un Dataframe puede ser visto como un conjunto de series que comparten el mismo índice.\n"
   ]
  },
  {
   "cell_type": "markdown",
   "metadata": {},
   "source": [
    "2. Contesta a las siguientes preguntas:\n",
    "\n",
    "- Crea dos listas:\n",
    "    - Una que se llame \"valores\" que tenga 7 números aleatorios.\n",
    "\n"
   ]
  },
  {
   "cell_type": "code",
   "execution_count": 3,
   "metadata": {},
   "outputs": [
    {
     "data": {
      "text/plain": [
       "[26, 25, 29, 56, 1, 43, 18]"
      ]
     },
     "execution_count": 3,
     "metadata": {},
     "output_type": "execute_result"
    }
   ],
   "source": [
    "# Forma A)\n",
    "import random\n",
    "lista_valores = [random.randint(0,100) for lista_valores in range (7)]\n",
    "lista_valores"
   ]
  },
  {
   "cell_type": "code",
   "execution_count": 4,
   "metadata": {},
   "outputs": [
    {
     "data": {
      "text/plain": [
       "[0, 28, 29, 76, 2, 99, 44]"
      ]
     },
     "execution_count": 4,
     "metadata": {},
     "output_type": "execute_result"
    }
   ],
   "source": [
    "# Forma B)\n",
    "import numpy as np\n",
    "lista_valores_2 =list(np.random.randint(0,100,7))\n",
    "lista_valores_2"
   ]
  },
  {
   "cell_type": "markdown",
   "metadata": {},
   "source": [
    "- Otra que se llame \"indices\" que tenga 7 strings que se llamen como los días de la semana."
   ]
  },
  {
   "cell_type": "code",
   "execution_count": 5,
   "metadata": {},
   "outputs": [],
   "source": [
    "lista_indices = [\"lunes\",\"martes\",\"miercoles\",\"jueves\",\"viernes\",\"sabado\",\"domingo\"]"
   ]
  },
  {
   "cell_type": "markdown",
   "metadata": {},
   "source": [
    "- A partir de estas dos listas crea una Serie donde la variable \"valores\" sean los valores de la Serie y la variable indices sean los índices de la Serie."
   ]
  },
  {
   "cell_type": "code",
   "execution_count": 6,
   "metadata": {},
   "outputs": [
    {
     "data": {
      "text/plain": [
       "lunes        26\n",
       "martes       25\n",
       "miercoles    29\n",
       "jueves       56\n",
       "viernes       1\n",
       "sabado       43\n",
       "domingo      18\n",
       "dtype: int64"
      ]
     },
     "execution_count": 6,
     "metadata": {},
     "output_type": "execute_result"
    }
   ],
   "source": [
    "serie_1 = pd.Series(lista_valores, index = lista_indices)\n",
    "serie_1"
   ]
  },
  {
   "cell_type": "markdown",
   "metadata": {},
   "source": [
    "- A partir de las dos listas anteriores crea un diccionario usando un bucle for. Para hacer esto tenemos el método zip que nos permite iterar por dos listas a la vez. Más informción sobre este método aquí."
   ]
  },
  {
   "cell_type": "code",
   "execution_count": 7,
   "metadata": {},
   "outputs": [
    {
     "name": "stdout",
     "output_type": "stream",
     "text": [
      "{'lunes': 26, 'martes': 25, 'miercoles': 29, 'jueves': 56, 'viernes': 1, 'sabado': 43, 'domingo': 18}\n"
     ]
    }
   ],
   "source": [
    "dict_resultado = {}\n",
    "resultado = zip(lista_indices, lista_valores)\n",
    "\n",
    "\n",
    "for indice,valor in resultado:\n",
    "    dict_resultado[indice]=valor\n",
    "\n",
    "print(dict_resultado)\n"
   ]
  },
  {
   "cell_type": "markdown",
   "metadata": {},
   "source": [
    "- Crea una Serie con el diccionario creado en el punto anterior."
   ]
  },
  {
   "cell_type": "code",
   "execution_count": 8,
   "metadata": {},
   "outputs": [
    {
     "data": {
      "text/plain": [
       "lunes        26\n",
       "martes       25\n",
       "miercoles    29\n",
       "jueves       56\n",
       "viernes       1\n",
       "sabado       43\n",
       "domingo      18\n",
       "dtype: int64"
      ]
     },
     "execution_count": 8,
     "metadata": {},
     "output_type": "execute_result"
    }
   ],
   "source": [
    "serie_resultados = pd.Series (dict_resultado)\n",
    "serie_resultados"
   ]
  },
  {
   "cell_type": "markdown",
   "metadata": {},
   "source": [
    "- ¿Qué forma tiene esta última Serie? ¿Qué tipo de datos tiene?\n",
    "\n",
    "Tiene dos columnas, una columna de strings y otra de int, y tiene 7 filas "
   ]
  },
  {
   "cell_type": "markdown",
   "metadata": {},
   "source": [
    "- ¿Qué tamaño tiene?"
   ]
  },
  {
   "cell_type": "code",
   "execution_count": 9,
   "metadata": {},
   "outputs": [
    {
     "data": {
      "text/plain": [
       "7"
      ]
     },
     "execution_count": 9,
     "metadata": {},
     "output_type": "execute_result"
    }
   ],
   "source": [
    "serie_resultados.size"
   ]
  },
  {
   "cell_type": "markdown",
   "metadata": {},
   "source": [
    "- ¿Cuáles son los índices de la Serie?\n"
   ]
  },
  {
   "cell_type": "code",
   "execution_count": 10,
   "metadata": {},
   "outputs": [
    {
     "data": {
      "text/plain": [
       "Index(['lunes', 'martes', 'miercoles', 'jueves', 'viernes', 'sabado',\n",
       "       'domingo'],\n",
       "      dtype='object')"
      ]
     },
     "execution_count": 10,
     "metadata": {},
     "output_type": "execute_result"
    }
   ],
   "source": [
    "serie_resultados.index"
   ]
  },
  {
   "cell_type": "markdown",
   "metadata": {},
   "source": [
    "- ¿Y los values?\n"
   ]
  },
  {
   "cell_type": "code",
   "execution_count": 11,
   "metadata": {},
   "outputs": [
    {
     "data": {
      "text/plain": [
       "array([26, 25, 29, 56,  1, 43, 18])"
      ]
     },
     "execution_count": 11,
     "metadata": {},
     "output_type": "execute_result"
    }
   ],
   "source": [
    "serie_resultados.values"
   ]
  },
  {
   "cell_type": "markdown",
   "metadata": {},
   "source": [
    "- Extrae el valor para el índice \"lunes\"\n"
   ]
  },
  {
   "cell_type": "code",
   "execution_count": 12,
   "metadata": {},
   "outputs": [
    {
     "data": {
      "text/plain": [
       "26"
      ]
     },
     "execution_count": 12,
     "metadata": {},
     "output_type": "execute_result"
    }
   ],
   "source": [
    "serie_resultados[\"lunes\"]"
   ]
  },
  {
   "cell_type": "markdown",
   "metadata": {},
   "source": [
    "- Extrae el valor para el índice \"lunes\", \"martes\" y \"miércoles\"."
   ]
  },
  {
   "cell_type": "code",
   "execution_count": 13,
   "metadata": {},
   "outputs": [
    {
     "data": {
      "text/plain": [
       "lunes        26\n",
       "martes       25\n",
       "miercoles    29\n",
       "dtype: int64"
      ]
     },
     "execution_count": 13,
     "metadata": {},
     "output_type": "execute_result"
    }
   ],
   "source": [
    "serie_resultados[\"lunes\": \"miercoles\"]"
   ]
  },
  {
   "cell_type": "markdown",
   "metadata": {},
   "source": [
    "- Extrae el valor para el índice \"lunes\" y \"domingo\""
   ]
  },
  {
   "cell_type": "code",
   "execution_count": 14,
   "metadata": {},
   "outputs": [
    {
     "data": {
      "text/plain": [
       "lunes      26\n",
       "domingo    18\n",
       "dtype: int64"
      ]
     },
     "execution_count": 14,
     "metadata": {},
     "output_type": "execute_result"
    }
   ],
   "source": [
    "serie_resultados[[\"lunes\",\"domingo\"]]"
   ]
  },
  {
   "cell_type": "markdown",
   "metadata": {},
   "source": [
    "# DataFrames\n",
    "- Crea un array de dos dimensiones con 4 filas y 3 columnas."
   ]
  },
  {
   "cell_type": "code",
   "execution_count": 17,
   "metadata": {},
   "outputs": [
    {
     "data": {
      "text/plain": [
       "array([[-3.10503618e+231, -3.11109037e+231,  3.95252517e-323],\n",
       "       [ 0.00000000e+000,  0.00000000e+000,  0.00000000e+000],\n",
       "       [ 0.00000000e+000,  0.00000000e+000,  0.00000000e+000],\n",
       "       [ 0.00000000e+000,  0.00000000e+000,  0.00000000e+000]])"
      ]
     },
     "execution_count": 17,
     "metadata": {},
     "output_type": "execute_result"
    }
   ],
   "source": [
    "array_paises = np.empty((4,3))\n",
    "array_paises"
   ]
  },
  {
   "cell_type": "markdown",
   "metadata": {},
   "source": [
    "- Convierte el array en un DataFrame donde las columnas se llamen \"España\", \"Francia\" e \"Italia\"."
   ]
  },
  {
   "cell_type": "code",
   "execution_count": 16,
   "metadata": {},
   "outputs": [
    {
     "data": {
      "text/html": [
       "<div>\n",
       "<style scoped>\n",
       "    .dataframe tbody tr th:only-of-type {\n",
       "        vertical-align: middle;\n",
       "    }\n",
       "\n",
       "    .dataframe tbody tr th {\n",
       "        vertical-align: top;\n",
       "    }\n",
       "\n",
       "    .dataframe thead th {\n",
       "        text-align: right;\n",
       "    }\n",
       "</style>\n",
       "<table border=\"1\" class=\"dataframe\">\n",
       "  <thead>\n",
       "    <tr style=\"text-align: right;\">\n",
       "      <th></th>\n",
       "      <th>España</th>\n",
       "      <th>Francia</th>\n",
       "      <th>Italia</th>\n",
       "    </tr>\n",
       "  </thead>\n",
       "  <tbody>\n",
       "    <tr>\n",
       "      <th>0</th>\n",
       "      <td>-3.105036e+231</td>\n",
       "      <td>-3.111090e+231</td>\n",
       "      <td>3.952525e-323</td>\n",
       "    </tr>\n",
       "    <tr>\n",
       "      <th>1</th>\n",
       "      <td>0.000000e+00</td>\n",
       "      <td>0.000000e+00</td>\n",
       "      <td>0.000000e+00</td>\n",
       "    </tr>\n",
       "    <tr>\n",
       "      <th>2</th>\n",
       "      <td>0.000000e+00</td>\n",
       "      <td>0.000000e+00</td>\n",
       "      <td>0.000000e+00</td>\n",
       "    </tr>\n",
       "    <tr>\n",
       "      <th>3</th>\n",
       "      <td>0.000000e+00</td>\n",
       "      <td>0.000000e+00</td>\n",
       "      <td>0.000000e+00</td>\n",
       "    </tr>\n",
       "  </tbody>\n",
       "</table>\n",
       "</div>"
      ],
      "text/plain": [
       "          España        Francia         Italia\n",
       "0 -3.105036e+231 -3.111090e+231  3.952525e-323\n",
       "1   0.000000e+00   0.000000e+00   0.000000e+00\n",
       "2   0.000000e+00   0.000000e+00   0.000000e+00\n",
       "3   0.000000e+00   0.000000e+00   0.000000e+00"
      ]
     },
     "execution_count": 16,
     "metadata": {},
     "output_type": "execute_result"
    }
   ],
   "source": [
    "df_paises = pd.DataFrame(array_paises)\n",
    "columnas = [\"España\", \"Francia\",\" Italia\"]\n",
    "df_paises.columns = columnas\n",
    "df_paises"
   ]
  },
  {
   "cell_type": "markdown",
   "metadata": {},
   "source": [
    "- Descarga el archivo \"medallas\" y carga el DataFrame."
   ]
  },
  {
   "cell_type": "code",
   "execution_count": 18,
   "metadata": {},
   "outputs": [
    {
     "data": {
      "text/html": [
       "<div>\n",
       "<style scoped>\n",
       "    .dataframe tbody tr th:only-of-type {\n",
       "        vertical-align: middle;\n",
       "    }\n",
       "\n",
       "    .dataframe tbody tr th {\n",
       "        vertical-align: top;\n",
       "    }\n",
       "\n",
       "    .dataframe thead th {\n",
       "        text-align: right;\n",
       "    }\n",
       "</style>\n",
       "<table border=\"1\" class=\"dataframe\">\n",
       "  <thead>\n",
       "    <tr style=\"text-align: right;\">\n",
       "      <th></th>\n",
       "      <th>País</th>\n",
       "      <th>Oro</th>\n",
       "      <th>Plata</th>\n",
       "      <th>Bronce</th>\n",
       "    </tr>\n",
       "  </thead>\n",
       "  <tbody>\n",
       "    <tr>\n",
       "      <th>1</th>\n",
       "      <td>China</td>\n",
       "      <td>1473</td>\n",
       "      <td>994</td>\n",
       "      <td>720</td>\n",
       "    </tr>\n",
       "    <tr>\n",
       "      <th>2</th>\n",
       "      <td>Japón</td>\n",
       "      <td>1032</td>\n",
       "      <td>1037</td>\n",
       "      <td>985</td>\n",
       "    </tr>\n",
       "    <tr>\n",
       "      <th>3</th>\n",
       "      <td>Corea del Sur</td>\n",
       "      <td>745</td>\n",
       "      <td>663</td>\n",
       "      <td>827</td>\n",
       "    </tr>\n",
       "    <tr>\n",
       "      <th>4</th>\n",
       "      <td>Irán</td>\n",
       "      <td>179</td>\n",
       "      <td>181</td>\n",
       "      <td>197</td>\n",
       "    </tr>\n",
       "    <tr>\n",
       "      <th>5</th>\n",
       "      <td>Kazajistán</td>\n",
       "      <td>155</td>\n",
       "      <td>158</td>\n",
       "      <td>224</td>\n",
       "    </tr>\n",
       "    <tr>\n",
       "      <th>6</th>\n",
       "      <td>India</td>\n",
       "      <td>154</td>\n",
       "      <td>202</td>\n",
       "      <td>315</td>\n",
       "    </tr>\n",
       "    <tr>\n",
       "      <th>7</th>\n",
       "      <td>Tailandia</td>\n",
       "      <td>132</td>\n",
       "      <td>175</td>\n",
       "      <td>278</td>\n",
       "    </tr>\n",
       "    <tr>\n",
       "      <th>8</th>\n",
       "      <td>Indonesia</td>\n",
       "      <td>112</td>\n",
       "      <td>131</td>\n",
       "      <td>240</td>\n",
       "    </tr>\n",
       "    <tr>\n",
       "      <th>9</th>\n",
       "      <td>China Taipéi</td>\n",
       "      <td>99</td>\n",
       "      <td>144</td>\n",
       "      <td>276</td>\n",
       "    </tr>\n",
       "    <tr>\n",
       "      <th>10</th>\n",
       "      <td>Corea del Norte</td>\n",
       "      <td>91</td>\n",
       "      <td>120</td>\n",
       "      <td>235</td>\n",
       "    </tr>\n",
       "  </tbody>\n",
       "</table>\n",
       "</div>"
      ],
      "text/plain": [
       "               País   Oro  Plata  Bronce\n",
       "1             China  1473    994     720\n",
       "2             Japón  1032   1037     985\n",
       "3     Corea del Sur   745    663     827\n",
       "4              Irán   179    181     197\n",
       "5        Kazajistán   155    158     224\n",
       "6             India   154    202     315\n",
       "7         Tailandia   132    175     278\n",
       "8         Indonesia   112    131     240\n",
       "9      China Taipéi    99    144     276\n",
       "10  Corea del Norte    91    120     235"
      ]
     },
     "execution_count": 18,
     "metadata": {},
     "output_type": "execute_result"
    }
   ],
   "source": [
    "df_medallas= pd.read_csv(\"medallas.csv\", index_col= 0)\n",
    "df_medallas"
   ]
  },
  {
   "cell_type": "markdown",
   "metadata": {},
   "source": [
    "- Usando el loc extrae todas las columnas de la fila de Tailandia."
   ]
  },
  {
   "cell_type": "code",
   "execution_count": 26,
   "metadata": {},
   "outputs": [
    {
     "data": {
      "text/plain": [
       "Index([1, 2, 3, 4, 5, 6, 7, 8, 9, 10], dtype='int64')"
      ]
     },
     "execution_count": 26,
     "metadata": {},
     "output_type": "execute_result"
    }
   ],
   "source": [
    "df_medallas.index"
   ]
  },
  {
   "cell_type": "code",
   "execution_count": 32,
   "metadata": {},
   "outputs": [
    {
     "data": {
      "text/plain": [
       "País      Tailandia\n",
       "Oro             132\n",
       "Plata           175\n",
       "Bronce          278\n",
       "Name: 7, dtype: object"
      ]
     },
     "execution_count": 32,
     "metadata": {},
     "output_type": "execute_result"
    }
   ],
   "source": [
    "info_Tailandia = df_medallas.loc[7,:]\n",
    "info_Tailandia\n",
    "\n",
    "#nota: El índice en éste caso es un número, no una etiqueta. Por eso daba error cuando poníamos 'Tailandia', ya que es una columna"
   ]
  },
  {
   "cell_type": "markdown",
   "metadata": {},
   "source": [
    "- Usando el loc extrae todas las columnas de China e Irán.- "
   ]
  },
  {
   "cell_type": "code",
   "execution_count": null,
   "metadata": {},
   "outputs": [],
   "source": []
  },
  {
   "cell_type": "markdown",
   "metadata": {},
   "source": [
    "- Usando el loc extrae solo las columnas de \"Oro\", \"Plata\" y \"Bronce\" de China e Irán"
   ]
  },
  {
   "cell_type": "code",
   "execution_count": 39,
   "metadata": {},
   "outputs": [
    {
     "data": {
      "text/html": [
       "<div>\n",
       "<style scoped>\n",
       "    .dataframe tbody tr th:only-of-type {\n",
       "        vertical-align: middle;\n",
       "    }\n",
       "\n",
       "    .dataframe tbody tr th {\n",
       "        vertical-align: top;\n",
       "    }\n",
       "\n",
       "    .dataframe thead th {\n",
       "        text-align: right;\n",
       "    }\n",
       "</style>\n",
       "<table border=\"1\" class=\"dataframe\">\n",
       "  <thead>\n",
       "    <tr style=\"text-align: right;\">\n",
       "      <th></th>\n",
       "      <th>Oro</th>\n",
       "      <th>Plata</th>\n",
       "      <th>Bronce</th>\n",
       "    </tr>\n",
       "  </thead>\n",
       "  <tbody>\n",
       "    <tr>\n",
       "      <th>1</th>\n",
       "      <td>1473</td>\n",
       "      <td>994</td>\n",
       "      <td>720</td>\n",
       "    </tr>\n",
       "    <tr>\n",
       "      <th>4</th>\n",
       "      <td>179</td>\n",
       "      <td>181</td>\n",
       "      <td>197</td>\n",
       "    </tr>\n",
       "  </tbody>\n",
       "</table>\n",
       "</div>"
      ],
      "text/plain": [
       "    Oro  Plata  Bronce\n",
       "1  1473    994     720\n",
       "4   179    181     197"
      ]
     },
     "execution_count": 39,
     "metadata": {},
     "output_type": "execute_result"
    }
   ],
   "source": [
    "df_medallas.loc[[1, 4],[\"Oro\", \"Plata\", \"Bronce\"]]"
   ]
  },
  {
   "cell_type": "markdown",
   "metadata": {},
   "source": [
    "- Usando el iloc extrae la información de la India. Devolved todas las columnas."
   ]
  },
  {
   "cell_type": "markdown",
   "metadata": {},
   "source": []
  },
  {
   "cell_type": "markdown",
   "metadata": {},
   "source": [
    "- Usando el iloc extrae todas las columnas de los paises que estén en posición impar. La primera que nos tendría que salir es Japón y la última Corea del Norte."
   ]
  },
  {
   "cell_type": "code",
   "execution_count": 43,
   "metadata": {},
   "outputs": [
    {
     "data": {
      "text/html": [
       "<div>\n",
       "<style scoped>\n",
       "    .dataframe tbody tr th:only-of-type {\n",
       "        vertical-align: middle;\n",
       "    }\n",
       "\n",
       "    .dataframe tbody tr th {\n",
       "        vertical-align: top;\n",
       "    }\n",
       "\n",
       "    .dataframe thead th {\n",
       "        text-align: right;\n",
       "    }\n",
       "</style>\n",
       "<table border=\"1\" class=\"dataframe\">\n",
       "  <thead>\n",
       "    <tr style=\"text-align: right;\">\n",
       "      <th></th>\n",
       "      <th>País</th>\n",
       "      <th>Oro</th>\n",
       "      <th>Plata</th>\n",
       "      <th>Bronce</th>\n",
       "    </tr>\n",
       "  </thead>\n",
       "  <tbody>\n",
       "    <tr>\n",
       "      <th>2</th>\n",
       "      <td>Japón</td>\n",
       "      <td>1032</td>\n",
       "      <td>1037</td>\n",
       "      <td>985</td>\n",
       "    </tr>\n",
       "    <tr>\n",
       "      <th>4</th>\n",
       "      <td>Irán</td>\n",
       "      <td>179</td>\n",
       "      <td>181</td>\n",
       "      <td>197</td>\n",
       "    </tr>\n",
       "    <tr>\n",
       "      <th>6</th>\n",
       "      <td>India</td>\n",
       "      <td>154</td>\n",
       "      <td>202</td>\n",
       "      <td>315</td>\n",
       "    </tr>\n",
       "    <tr>\n",
       "      <th>8</th>\n",
       "      <td>Indonesia</td>\n",
       "      <td>112</td>\n",
       "      <td>131</td>\n",
       "      <td>240</td>\n",
       "    </tr>\n",
       "    <tr>\n",
       "      <th>10</th>\n",
       "      <td>Corea del Norte</td>\n",
       "      <td>91</td>\n",
       "      <td>120</td>\n",
       "      <td>235</td>\n",
       "    </tr>\n",
       "  </tbody>\n",
       "</table>\n",
       "</div>"
      ],
      "text/plain": [
       "               País   Oro  Plata  Bronce\n",
       "2             Japón  1032   1037     985\n",
       "4              Irán   179    181     197\n",
       "6             India   154    202     315\n",
       "8         Indonesia   112    131     240\n",
       "10  Corea del Norte    91    120     235"
      ]
     },
     "execution_count": 43,
     "metadata": {},
     "output_type": "execute_result"
    }
   ],
   "source": [
    "paises_impar = df_medallas.iloc[1::2, :]\n",
    "paises_impar"
   ]
  },
  {
   "cell_type": "markdown",
   "metadata": {},
   "source": [
    "- Contesta a las siguientes preguntas:\n",
    "    - ¿Qué país consiguió más de 200 medallas de oro?\n",
    "    - ¿Qué país consiguió más de 200 medallas de oro y más de 1000 de plata?\n",
    "    - ¿Qué país consiguió más de 200 medallas de oro o más de 700 de bronce?"
   ]
  },
  {
   "cell_type": "code",
   "execution_count": 68,
   "metadata": {},
   "outputs": [
    {
     "data": {
      "text/html": [
       "<div>\n",
       "<style scoped>\n",
       "    .dataframe tbody tr th:only-of-type {\n",
       "        vertical-align: middle;\n",
       "    }\n",
       "\n",
       "    .dataframe tbody tr th {\n",
       "        vertical-align: top;\n",
       "    }\n",
       "\n",
       "    .dataframe thead th {\n",
       "        text-align: right;\n",
       "    }\n",
       "</style>\n",
       "<table border=\"1\" class=\"dataframe\">\n",
       "  <thead>\n",
       "    <tr style=\"text-align: right;\">\n",
       "      <th></th>\n",
       "      <th>País</th>\n",
       "      <th>Oro</th>\n",
       "      <th>Plata</th>\n",
       "      <th>Bronce</th>\n",
       "    </tr>\n",
       "  </thead>\n",
       "  <tbody>\n",
       "    <tr>\n",
       "      <th>1</th>\n",
       "      <td>China</td>\n",
       "      <td>1473</td>\n",
       "      <td>994</td>\n",
       "      <td>720</td>\n",
       "    </tr>\n",
       "    <tr>\n",
       "      <th>2</th>\n",
       "      <td>Japón</td>\n",
       "      <td>1032</td>\n",
       "      <td>1037</td>\n",
       "      <td>985</td>\n",
       "    </tr>\n",
       "    <tr>\n",
       "      <th>3</th>\n",
       "      <td>Corea del Sur</td>\n",
       "      <td>745</td>\n",
       "      <td>663</td>\n",
       "      <td>827</td>\n",
       "    </tr>\n",
       "  </tbody>\n",
       "</table>\n",
       "</div>"
      ],
      "text/plain": [
       "            País   Oro  Plata  Bronce\n",
       "1          China  1473    994     720\n",
       "2          Japón  1032   1037     985\n",
       "3  Corea del Sur   745    663     827"
      ]
     },
     "execution_count": 68,
     "metadata": {},
     "output_type": "execute_result"
    }
   ],
   "source": [
    "# Paises que consiguieron más de 200 medallas de oro:\n",
    "\n",
    "paises_mas_oro = df_medallas[df_medallas['Oro']>200]\n",
    "paises_mas_oro"
   ]
  },
  {
   "cell_type": "code",
   "execution_count": 67,
   "metadata": {},
   "outputs": [
    {
     "data": {
      "text/plain": [
       "1            China\n",
       "2            Japón\n",
       "3    Corea del Sur\n",
       "Name: País, dtype: object"
      ]
     },
     "execution_count": 67,
     "metadata": {},
     "output_type": "execute_result"
    }
   ],
   "source": [
    "# si queremos mostrar sólo el país, buscamos por etiqueta\n",
    "paises_mas_oro['País'] "
   ]
  },
  {
   "cell_type": "code",
   "execution_count": 69,
   "metadata": {},
   "outputs": [
    {
     "data": {
      "text/html": [
       "<div>\n",
       "<style scoped>\n",
       "    .dataframe tbody tr th:only-of-type {\n",
       "        vertical-align: middle;\n",
       "    }\n",
       "\n",
       "    .dataframe tbody tr th {\n",
       "        vertical-align: top;\n",
       "    }\n",
       "\n",
       "    .dataframe thead th {\n",
       "        text-align: right;\n",
       "    }\n",
       "</style>\n",
       "<table border=\"1\" class=\"dataframe\">\n",
       "  <thead>\n",
       "    <tr style=\"text-align: right;\">\n",
       "      <th></th>\n",
       "      <th>País</th>\n",
       "      <th>Oro</th>\n",
       "      <th>Plata</th>\n",
       "      <th>Bronce</th>\n",
       "    </tr>\n",
       "  </thead>\n",
       "  <tbody>\n",
       "    <tr>\n",
       "      <th>2</th>\n",
       "      <td>Japón</td>\n",
       "      <td>1032</td>\n",
       "      <td>1037</td>\n",
       "      <td>985</td>\n",
       "    </tr>\n",
       "  </tbody>\n",
       "</table>\n",
       "</div>"
      ],
      "text/plain": [
       "    País   Oro  Plata  Bronce\n",
       "2  Japón  1032   1037     985"
      ]
     },
     "execution_count": 69,
     "metadata": {},
     "output_type": "execute_result"
    }
   ],
   "source": [
    "#  Paises que consiguieron más de 200 medallas de oro y más de 1000 medallas de Plata:\n",
    "\n",
    "\n",
    "paises_mas_oro_plata = df_medallas[(df_medallas['Oro'] >200)& (df_medallas['Plata']>1000)]\n",
    "paises_mas_oro_plata"
   ]
  },
  {
   "cell_type": "code",
   "execution_count": 78,
   "metadata": {},
   "outputs": [
    {
     "data": {
      "text/html": [
       "<div>\n",
       "<style scoped>\n",
       "    .dataframe tbody tr th:only-of-type {\n",
       "        vertical-align: middle;\n",
       "    }\n",
       "\n",
       "    .dataframe tbody tr th {\n",
       "        vertical-align: top;\n",
       "    }\n",
       "\n",
       "    .dataframe thead th {\n",
       "        text-align: right;\n",
       "    }\n",
       "</style>\n",
       "<table border=\"1\" class=\"dataframe\">\n",
       "  <thead>\n",
       "    <tr style=\"text-align: right;\">\n",
       "      <th></th>\n",
       "      <th>País</th>\n",
       "      <th>Oro</th>\n",
       "      <th>Plata</th>\n",
       "      <th>Bronce</th>\n",
       "    </tr>\n",
       "  </thead>\n",
       "  <tbody>\n",
       "    <tr>\n",
       "      <th>1</th>\n",
       "      <td>China</td>\n",
       "      <td>1473</td>\n",
       "      <td>994</td>\n",
       "      <td>720</td>\n",
       "    </tr>\n",
       "    <tr>\n",
       "      <th>2</th>\n",
       "      <td>Japón</td>\n",
       "      <td>1032</td>\n",
       "      <td>1037</td>\n",
       "      <td>985</td>\n",
       "    </tr>\n",
       "    <tr>\n",
       "      <th>3</th>\n",
       "      <td>Corea del Sur</td>\n",
       "      <td>745</td>\n",
       "      <td>663</td>\n",
       "      <td>827</td>\n",
       "    </tr>\n",
       "  </tbody>\n",
       "</table>\n",
       "</div>"
      ],
      "text/plain": [
       "            País   Oro  Plata  Bronce\n",
       "1          China  1473    994     720\n",
       "2          Japón  1032   1037     985\n",
       "3  Corea del Sur   745    663     827"
      ]
     },
     "execution_count": 78,
     "metadata": {},
     "output_type": "execute_result"
    }
   ],
   "source": [
    "#¿Qué país consiguió más de 200 medallas de oro o más de 700 de bronce?\n",
    "\n",
    "paises_mas_oro_bronce = df_medallas[(df_medallas['Oro'] >200)& (df_medallas['Bronce']>700)]\n",
    "paises_mas_oro_bronce "
   ]
  },
  {
   "cell_type": "markdown",
   "metadata": {},
   "source": [
    "- Crea una nueva columma que se llame \"total\" que sea el resultado de la suma de todas las medallas obtenidas por cada país."
   ]
  },
  {
   "cell_type": "markdown",
   "metadata": {},
   "source": []
  }
 ],
 "metadata": {
  "kernelspec": {
   "display_name": "base",
   "language": "python",
   "name": "python3"
  },
  "language_info": {
   "codemirror_mode": {
    "name": "ipython",
    "version": 3
   },
   "file_extension": ".py",
   "mimetype": "text/x-python",
   "name": "python",
   "nbconvert_exporter": "python",
   "pygments_lexer": "ipython3",
   "version": "3.9.7"
  }
 },
 "nbformat": 4,
 "nbformat_minor": 2
}
